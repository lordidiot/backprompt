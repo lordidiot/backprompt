{
 "cells": [
  {
   "cell_type": "code",
   "execution_count": 28,
   "id": "c603c1de-3d44-49b1-9d81-1e73a706d8d6",
   "metadata": {},
   "outputs": [],
   "source": [
    "import sys\n",
    "import torch\n",
    "import torch.nn as nn\n",
    "import numpy as np\n",
    "import pandas as pd\n",
    "import transformers\n",
    "import matplotlib.pyplot as plt\n",
    "\n",
    "from time import time\n",
    "from typing import Optional\n",
    "from torch.utils.data import Dataset, DataLoader\n",
    "from transformers import AutoTokenizer, AutoModelForCausalLM, PhiForCausalLM\n",
    "from transformers.models.gpt2.modeling_gpt2 import GPT2LMHeadModel"
   ]
  },
  {
   "cell_type": "markdown",
   "id": "b9e853b6-e21b-4520-8932-a2348c11af4c",
   "metadata": {},
   "source": [
    "# GPT-2 Large"
   ]
  },
  {
   "cell_type": "code",
   "execution_count": 2,
   "id": "c84416a4-e4a3-474b-9090-f92defa03847",
   "metadata": {},
   "outputs": [],
   "source": [
    "# gpt2 large\n",
    "gpt_tokenizer = AutoTokenizer.from_pretrained(\"openai-community/gpt2-large\")\n",
    "gpt = GPT2LMHeadModel.from_pretrained(\"openai-community/gpt2-large\")"
   ]
  },
  {
   "cell_type": "code",
   "execution_count": 3,
   "id": "163f48cb-7c2b-419b-8627-df18ac5204a3",
   "metadata": {},
   "outputs": [],
   "source": [
    "gpt_tokenizer.padding_side = \"right\"\n",
    "gpt_tokenizer.pad_token = gpt_tokenizer.eos_token"
   ]
  },
  {
   "cell_type": "code",
   "execution_count": 4,
   "id": "2175a3e7-99d7-41c2-8f91-0078bddf4882",
   "metadata": {},
   "outputs": [
    {
     "data": {
      "text/plain": [
       "device(type='cuda')"
      ]
     },
     "execution_count": 4,
     "metadata": {},
     "output_type": "execute_result"
    }
   ],
   "source": [
    "device = torch.device('cpu')\n",
    "if torch.cuda.is_available():\n",
    "    device = torch.device('cuda')\n",
    "elif torch.backends.mps.is_available():\n",
    "    # https://developer.apple.com/metal/pytorch/\n",
    "    device = torch.device('mps')\n",
    "device"
   ]
  },
  {
   "cell_type": "code",
   "execution_count": 6,
   "id": "7e5e748b-15e2-4250-a4ad-5233512ef848",
   "metadata": {},
   "outputs": [],
   "source": [
    "gpt = gpt.to(device)"
   ]
  },
  {
   "cell_type": "markdown",
   "id": "4d94c5a5-d745-4f1b-9dd2-0c2474b9d6dd",
   "metadata": {},
   "source": [
    "# Data preparation"
   ]
  },
  {
   "cell_type": "code",
   "execution_count": 7,
   "id": "a3a4053c-8b60-4cd2-9e7e-e1777033311a",
   "metadata": {},
   "outputs": [],
   "source": [
    "def create_prompt_func(prompt):\n",
    "    assert \"<word1>\" in prompt, \"Prompt must include <word1>\"\n",
    "    assert prompt.endswith(\" <word2>\"), \"Prompt must end with \\\" <word2>\\\"\"\n",
    "    def prompt_func(row):\n",
    "        word1, word2 = row['word1'], row['word2']\n",
    "        if type(word1) != str:\n",
    "            print(word1, row)\n",
    "        x = prompt.removesuffix(\" <word2>\").replace(\"<word1>\", word1)\n",
    "        y = prompt.replace(\"<word1>\", word1).replace(\"<word2>\", word2)\n",
    "        return x, y\n",
    "    return prompt_func\n",
    "\n",
    "def tokenize_and_mask(tokenizer):\n",
    "    def f(row):\n",
    "        pre = tokenizer(row[0])\n",
    "        full = tokenizer(row[1])\n",
    "        n_prefix = len(pre['input_ids'])\n",
    "        n_predict = len(full['input_ids']) - n_prefix\n",
    "        return row[1], n_prefix-1, n_predict\n",
    "    return f"
   ]
  },
  {
   "cell_type": "code",
   "execution_count": 9,
   "id": "a1c14722-f476-4c1a-8cc0-8d7bfc478e34",
   "metadata": {},
   "outputs": [
    {
     "data": {
      "text/html": [
       "<div>\n",
       "<style scoped>\n",
       "    .dataframe tbody tr th:only-of-type {\n",
       "        vertical-align: middle;\n",
       "    }\n",
       "\n",
       "    .dataframe tbody tr th {\n",
       "        vertical-align: top;\n",
       "    }\n",
       "\n",
       "    .dataframe thead th {\n",
       "        text-align: right;\n",
       "    }\n",
       "</style>\n",
       "<table border=\"1\" class=\"dataframe\">\n",
       "  <thead>\n",
       "    <tr style=\"text-align: right;\">\n",
       "      <th></th>\n",
       "      <th>text</th>\n",
       "      <th>loss_mask_idx</th>\n",
       "      <th>n_predict</th>\n",
       "    </tr>\n",
       "  </thead>\n",
       "  <tbody>\n",
       "    <tr>\n",
       "      <th>0</th>\n",
       "      <td>Here are two antonyms act and refrain</td>\n",
       "      <td>8</td>\n",
       "      <td>1</td>\n",
       "    </tr>\n",
       "    <tr>\n",
       "      <th>1</th>\n",
       "      <td>Here are two antonyms discontinue and keep</td>\n",
       "      <td>9</td>\n",
       "      <td>1</td>\n",
       "    </tr>\n",
       "    <tr>\n",
       "      <th>2</th>\n",
       "      <td>Here are two antonyms loosen and tighten</td>\n",
       "      <td>8</td>\n",
       "      <td>1</td>\n",
       "    </tr>\n",
       "    <tr>\n",
       "      <th>3</th>\n",
       "      <td>Here are two antonyms tender and demand</td>\n",
       "      <td>8</td>\n",
       "      <td>1</td>\n",
       "    </tr>\n",
       "    <tr>\n",
       "      <th>4</th>\n",
       "      <td>Here are two antonyms leave and come</td>\n",
       "      <td>8</td>\n",
       "      <td>1</td>\n",
       "    </tr>\n",
       "  </tbody>\n",
       "</table>\n",
       "</div>"
      ],
      "text/plain": [
       "                                         text  loss_mask_idx  n_predict\n",
       "0       Here are two antonyms act and refrain              8          1\n",
       "1  Here are two antonyms discontinue and keep              9          1\n",
       "2    Here are two antonyms loosen and tighten              8          1\n",
       "3     Here are two antonyms tender and demand              8          1\n",
       "4        Here are two antonyms leave and come              8          1"
      ]
     },
     "execution_count": 9,
     "metadata": {},
     "output_type": "execute_result"
    }
   ],
   "source": [
    "prompt = \"Here are two antonyms <word1> and <word2>\"\n",
    "# keep_default_na=False, we have the word \"null\", don't want it to be treated as na_value\n",
    "eacl_df = pd.read_csv('./data/eacl_antonyms.csv', keep_default_na=False, dtype=str)\n",
    "eacl_df = eacl_df.apply(create_prompt_func(prompt), axis=1, result_type='expand')\\\n",
    "    .apply(tokenize_and_mask(gpt_tokenizer), axis=1, result_type='expand')\\\n",
    "    .rename(columns={0: \"text\", 1: \"loss_mask_idx\", 2: \"n_predict\"})\n",
    "eacl_df.head()"
   ]
  },
  {
   "cell_type": "code",
   "execution_count": 10,
   "id": "0eef1755-6519-4ad6-8d6c-6a8dc6b306b5",
   "metadata": {},
   "outputs": [],
   "source": [
    "class AntonymDataset(Dataset):\n",
    "    def __init__(self, df):\n",
    "        super(AntonymDataset).__init__()\n",
    "        self.df = df\n",
    "\n",
    "    def __len__(self):\n",
    "        return len(self.df)\n",
    "\n",
    "    def __getitem__(self, idx):\n",
    "        text, loss_mask_idx, n_predict = self.df.iloc[idx]\n",
    "        return text, loss_mask_idx, n_predict"
   ]
  },
  {
   "cell_type": "markdown",
   "id": "90421ab8-78c0-44b4-a7d4-ad50fa3db30a",
   "metadata": {},
   "source": [
    "# Wrapped model (GPT-2 Large)"
   ]
  },
  {
   "cell_type": "code",
   "execution_count": 11,
   "id": "4d863f00-bba1-4099-8db0-7e10bb1acf6b",
   "metadata": {},
   "outputs": [],
   "source": [
    "class GPT2PromptModel(torch.nn.Module):\n",
    "    gpt2: GPT2LMHeadModel\n",
    "    prompt: torch.Tensor\n",
    "    prompt_len: int\n",
    "    \n",
    "    def __init__(self, prompt_len: int, gpt2):\n",
    "        super(GPT2PromptModel, self).__init__()\n",
    "        self.gpt2 = gpt2\n",
    "        # freeze gpt2 parameters\n",
    "        for parameter in self.gpt2.parameters():\n",
    "            parameter.requires_grad = False\n",
    "        # tunable prompt\n",
    "        embed_dim = self.gpt2.transformer.embed_dim\n",
    "        embed_weight = self.gpt2.get_input_embeddings().weight\n",
    "        self.prompt = torch.nn.Parameter(torch.normal(\n",
    "            embed_weight.mean(axis=0).broadcast_to(prompt_len, embed_dim),\n",
    "            embed_weight.std(axis=0).broadcast_to(prompt_len, embed_dim)\n",
    "        ))\n",
    "        self.prompt_len = prompt_len\n",
    "\n",
    "    def forward(\n",
    "        self,\n",
    "        prompt_index: int,\n",
    "        input_ids: Optional[torch.LongTensor] = None,\n",
    "        inputs_embeds: Optional[torch.FloatTensor] = None,\n",
    "        **kwargs\n",
    "    ):\n",
    "        if input_ids is not None and inputs_embeds is not None:\n",
    "            raise ValueError(\"You cannot specify both input_ids and inputs_embeds at the same time\")\n",
    "        elif input_ids is not None:\n",
    "            wte = self.gpt2.get_input_embeddings()\n",
    "            inputs_embeds = wte(input_ids)\n",
    "        elif inputs_embeds is None:\n",
    "            raise ValueError(\"You have to specify either input_ids or inputs_embeds\")\n",
    "        # Insert tunable prompt\n",
    "        batch_sz = inputs_embeds.shape[0]\n",
    "        inputs_embeds[:,prompt_index:prompt_index + self.prompt_len,:] = self.prompt.broadcast_to((batch_sz,) + self.prompt.shape)\n",
    "        return self.gpt2(inputs_embeds=inputs_embeds, **kwargs)"
   ]
  },
  {
   "cell_type": "markdown",
   "id": "1fda97c3-dcd7-4bee-a66c-221557746584",
   "metadata": {},
   "source": [
    "# Training"
   ]
  },
  {
   "cell_type": "code",
   "execution_count": 197,
   "id": "61b93e2b-e426-48c5-ae09-80d44f2a6212",
   "metadata": {},
   "outputs": [],
   "source": [
    "def train_epoch(prompt_model, train_loader, tokenizer, optimizer, prompt_idx=3):\n",
    "    prompt_model.eval() # we don't want dropout in the model to activate\n",
    "    losses = []\n",
    "    for texts, loss_mask_idxs, n_predicts in train_loader:\n",
    "        optimizer.zero_grad()\n",
    "        tokenized = tokenizer(texts, padding=True, return_tensors='pt').to(device)\n",
    "        batch_sz, seq_len = tokenized['input_ids'].shape\n",
    "        loss_mask = torch.zeros(batch_sz, seq_len-1)\n",
    "        for i, (start, n) in enumerate(zip(loss_mask_idxs, n_predicts)):\n",
    "            loss_mask[i, start:start+n] = 1\n",
    "        loss_mask = loss_mask.to(device)\n",
    "        y = tokenized['input_ids'][:, 1:].reshape(-1) # [1:] we don't predict first token\n",
    "        with torch.autocast(\"cuda\", dtype=torch.bfloat16):\n",
    "            model_out = prompt_model(prompt_idx, **tokenized)\n",
    "            y_pred_logits = model_out['logits']\n",
    "            # Ignore last token predicted\n",
    "            y_pred_logits = y_pred_logits[:, :-1, :]\n",
    "            # Merge batch and sequence dimensions for cross entropy loss\n",
    "            y_pred_logits = y_pred_logits.reshape(-1, y_pred_logits.shape[-1])\n",
    "            loss_matrix = nn.functional.cross_entropy(y_pred_logits, y, reduction='none').reshape(batch_sz, -1)\n",
    "            loss = (loss_matrix * loss_mask).sum() / loss_mask.sum()\n",
    "            loss.backward()\n",
    "        losses.append(loss.detach())\n",
    "        optimizer.step()\n",
    "        # sys.stdout.write('.')\n",
    "    return sum(losses) / len(losses)\n",
    "\n",
    "def test_model(prompt_model, test_loader, tokenizer, prompt_idx=3):\n",
    "    prompt_model.eval()\n",
    "    losses = []\n",
    "    with torch.no_grad():\n",
    "        for texts, loss_mask_idxs, n_predicts in test_loader:\n",
    "            tokenized = tokenizer(texts, padding=True, return_tensors='pt').to(device)\n",
    "            batch_sz, seq_len = tokenized['input_ids'].shape\n",
    "            loss_mask = torch.zeros(batch_sz, seq_len-1)\n",
    "            for i, (start, n) in enumerate(zip(loss_mask_idxs, n_predicts)):\n",
    "                loss_mask[i, start:start+n] = 1\n",
    "            loss_mask = loss_mask.to(device)\n",
    "            y = tokenized['input_ids'][:, 1:].reshape(-1) # [1:] we don't predict first token\n",
    "            with torch.autocast(\"cuda\", dtype=torch.bfloat16):\n",
    "                model_out = prompt_model(prompt_idx, **tokenized)\n",
    "                y_pred_logits = model_out['logits']\n",
    "                # Ignore last token predicted\n",
    "                y_pred_logits = y_pred_logits[:, :-1, :]\n",
    "                # Merge batch and sequence dimensions for cross entropy loss\n",
    "                y_pred_logits = y_pred_logits.reshape(-1, y_pred_logits.shape[-1])\n",
    "                loss_matrix = nn.functional.cross_entropy(y_pred_logits, y, reduction='none').reshape(batch_sz, -1)\n",
    "                loss = (loss_matrix * loss_mask).sum() / loss_mask.sum()\n",
    "            losses.append(loss.detach())\n",
    "    return sum(losses) / len(losses)"
   ]
  },
  {
   "cell_type": "markdown",
   "id": "1cb3c3ad-3da6-4cb8-9c64-f6290fbe2fcf",
   "metadata": {},
   "source": [
    "# Benchmark"
   ]
  },
  {
   "cell_type": "code",
   "execution_count": 37,
   "id": "0d932050-daeb-461c-91f2-fcf24ba24a79",
   "metadata": {},
   "outputs": [
    {
     "data": {
      "text/plain": [
       "tensor(4.4749, device='cuda:0')"
      ]
     },
     "execution_count": 37,
     "metadata": {},
     "output_type": "execute_result"
    }
   ],
   "source": [
    "class Wrapper(torch.nn.Module):\n",
    "    gpt2: GPT2LMHeadModel\n",
    "    \n",
    "    def __init__(self, gpt2):\n",
    "        super().__init__()\n",
    "        self.gpt2 = gpt2\n",
    "\n",
    "    def forward(self, _, **kwargs):\n",
    "        return self.gpt2(**kwargs)\n",
    "\n",
    "test_model(Wrapper(gpt), test_loader, gpt_tokenizer)"
   ]
  },
  {
   "cell_type": "markdown",
   "id": "2cb06bf3-baf2-427d-a8c0-8e7c470c3269",
   "metadata": {},
   "source": [
    "# Training (GPT-2 Large)"
   ]
  },
  {
   "cell_type": "code",
   "execution_count": 17,
   "id": "5cf7814e-a4d7-43d5-8fd3-c828f7722ae4",
   "metadata": {},
   "outputs": [],
   "source": [
    "seed = 1337\n",
    "np.random.seed(seed)"
   ]
  },
  {
   "cell_type": "code",
   "execution_count": 18,
   "id": "24c212f8-8e33-4c55-bf5e-2f2422b117f2",
   "metadata": {},
   "outputs": [],
   "source": [
    "train = eacl_df.sample(frac=0.8)\n",
    "test = eacl_df.drop(train.index)"
   ]
  },
  {
   "cell_type": "code",
   "execution_count": 19,
   "id": "dd43f709-9c4d-4051-b1a1-8bfc5b3fb7b1",
   "metadata": {},
   "outputs": [],
   "source": [
    "train_dataset = AntonymDataset(train)\n",
    "train_loader = DataLoader(train_dataset, batch_size=64, shuffle=True)\n",
    "test_dataset = AntonymDataset(test)\n",
    "test_loader = DataLoader(test_dataset, batch_size=64, shuffle=False)"
   ]
  },
  {
   "cell_type": "code",
   "execution_count": 22,
   "id": "68cc631c-ee43-4c51-879e-5b119cf9128d",
   "metadata": {},
   "outputs": [],
   "source": [
    "gpt_prompt_model = GPT2PromptModel(len(gpt_tokenizer(\" antonyms\")['input_ids']), gpt)\n",
    "gpt_prompt_model = gpt_prompt_model.to(device)"
   ]
  },
  {
   "cell_type": "code",
   "execution_count": 23,
   "id": "22ea3cee-31d1-4029-9c4f-be49a4629d47",
   "metadata": {},
   "outputs": [],
   "source": [
    "gpt_optimizer = torch.optim.Adam(list(filter(lambda x : x.requires_grad, gpt_prompt_model.parameters())), lr=1e-3)"
   ]
  },
  {
   "cell_type": "code",
   "execution_count": 20,
   "id": "a6db63c2-5beb-40c0-9d28-b4b3f376a684",
   "metadata": {},
   "outputs": [
    {
     "name": "stdout",
     "output_type": "stream",
     "text": [
      "CPU times: user 15.9 s, sys: 88.1 ms, total: 16 s\n",
      "Wall time: 17.2 s\n"
     ]
    },
    {
     "data": {
      "text/plain": [
       "tensor(5.1852, device='cuda:0')"
      ]
     },
     "execution_count": 20,
     "metadata": {},
     "output_type": "execute_result"
    }
   ],
   "source": [
    "%%time\n",
    "test_model(gpt_prompt_model, test_loader, gpt_tokenizer)"
   ]
  },
  {
   "cell_type": "code",
   "execution_count": 21,
   "id": "802f4635-490c-441c-b2c5-fdb394c47458",
   "metadata": {},
   "outputs": [
    {
     "name": "stdout",
     "output_type": "stream",
     "text": [
      "CPU times: user 1min 29s, sys: 43.8 s, total: 2min 12s\n",
      "Wall time: 2min 13s\n"
     ]
    },
    {
     "data": {
      "text/plain": [
       "tensor(3.7734, device='cuda:0')"
      ]
     },
     "execution_count": 21,
     "metadata": {},
     "output_type": "execute_result"
    }
   ],
   "source": [
    "%%time\n",
    "train_epoch(gpt_prompt_model, train_loader, gpt_tokenizer, gpt_optimizer)"
   ]
  },
  {
   "cell_type": "code",
   "execution_count": 25,
   "id": "fb4f2f1d-5263-45f9-ac4d-5c4d5879c306",
   "metadata": {},
   "outputs": [],
   "source": [
    "train_losses = [test_model(gpt_prompt_model, train_loader, gpt_tokenizer)]\n",
    "test_losses = [test_model(gpt_prompt_model, test_loader, gpt_tokenizer)]"
   ]
  },
  {
   "cell_type": "code",
   "execution_count": 26,
   "id": "f9a878f8-1268-417b-994e-ea893471a814",
   "metadata": {},
   "outputs": [
    {
     "name": "stdout",
     "output_type": "stream",
     "text": [
      "0 3.7490639686584473 3.4102284908294678\n",
      "1 3.3546550273895264 3.32865309715271\n",
      "2 3.291999340057373 3.28523325920105\n",
      "3 3.259598731994629 3.2900350093841553\n",
      "4 3.2261672019958496 3.2820823192596436\n",
      "5 3.205158233642578 3.2402915954589844\n",
      "6 3.201430559158325 3.2400643825531006\n",
      "7 3.183424472808838 3.2532167434692383\n",
      "8 3.1996400356292725 3.2230072021484375\n",
      "9 3.1939945220947266 3.2651209831237793\n",
      "10 3.1960291862487793 3.235297203063965\n",
      "11 3.171877145767212 3.2453551292419434\n",
      "12 3.184633493423462 3.207913398742676\n",
      "13 3.157175064086914 3.205815315246582\n",
      "14 3.1203858852386475 3.2204930782318115\n",
      "15 3.1327123641967773 3.196530342102051\n",
      "16 3.126887083053589 3.1894307136535645\n",
      "17 3.127190113067627 3.188394546508789\n",
      "18 3.1394636631011963 3.187258720397949\n",
      "19 3.1213724613189697 3.185823440551758\n",
      "20 3.1144518852233887 3.196652412414551\n",
      "21 3.1159753799438477 3.182175636291504\n",
      "22 3.106828212738037 3.1740312576293945\n",
      "23 3.125544786453247 3.1753787994384766\n",
      "24 3.0894830226898193 3.170797348022461\n",
      "25 3.0973188877105713 3.1571788787841797\n",
      "26 3.0963261127471924 3.16640567779541\n",
      "27 3.1030685901641846 3.1798787117004395\n",
      "28 3.0863301753997803 3.162144184112549\n",
      "29 3.095512866973877 3.1498916149139404\n",
      "30 3.0750579833984375 3.169402837753296\n",
      "31 3.098463535308838 3.1637802124023438\n",
      "32 3.0667519569396973 3.1538162231445312\n",
      "33 3.087698221206665 3.167264938354492\n",
      "34 3.0618269443511963 3.148423910140991\n",
      "35 3.0532751083374023 3.1488780975341797\n",
      "36 3.0529394149780273 3.1516456604003906\n",
      "37 3.0558760166168213 3.142874240875244\n",
      "38 3.061365842819214 3.1377453804016113\n",
      "39 3.0755176544189453 3.1451902389526367\n",
      "40 3.054046869277954 3.143193244934082\n",
      "41 3.0515525341033936 3.132465362548828\n",
      "42 3.0440099239349365 3.1554484367370605\n",
      "43 3.0405685901641846 3.144700050354004\n",
      "44 3.048760414123535 3.15647292137146\n",
      "45 3.0532803535461426 3.136337995529175\n",
      "46 3.0475826263427734 3.1506383419036865\n",
      "47 3.035893440246582 3.1468873023986816\n",
      "48 3.0559818744659424 3.144106864929199\n",
      "49 3.0543429851531982 3.1279048919677734\n",
      "50 3.028207302093506 3.1399059295654297\n",
      "51 3.030601978302002 3.143303632736206\n",
      "52 3.0375277996063232 3.132758617401123\n",
      "53 3.0482492446899414 3.1825695037841797\n",
      "54 3.047314167022705 3.139833450317383\n",
      "55 3.031282424926758 3.131460189819336\n",
      "56 3.045034170150757 3.1328208446502686\n",
      "57 3.0393006801605225 3.1294326782226562\n",
      "58 3.016526222229004 3.1416921615600586\n",
      "59 3.030766248703003 3.1197896003723145\n",
      "60 3.011744976043701 3.1251447200775146\n",
      "61 3.025745153427124 3.132026195526123\n",
      "62 3.0067527294158936 3.1449761390686035\n",
      "63 3.0116732120513916 3.1297147274017334\n",
      "64 3.0047521591186523 3.1173882484436035\n",
      "65 3.0319249629974365 3.1320159435272217\n",
      "66 3.009834051132202 3.111842155456543\n",
      "67 3.0086750984191895 3.1107585430145264\n",
      "68 3.0050554275512695 3.1208748817443848\n",
      "69 3.003835678100586 3.1208791732788086\n",
      "70 2.998636245727539 3.13513445854187\n",
      "71 3.0127573013305664 3.112433910369873\n",
      "72 3.0130929946899414 3.1126456260681152\n",
      "73 3.005894899368286 3.114727735519409\n",
      "74 2.9848861694335938 3.1147191524505615\n",
      "75 3.016773223876953 3.1190147399902344\n",
      "76 2.9998559951782227 3.109971761703491\n",
      "77 2.97771954536438 3.125274419784546\n",
      "78 3.004084348678589 3.121861457824707\n",
      "79 2.989985704421997 3.118849754333496\n",
      "80 2.990299940109253 3.116739273071289\n",
      "81 3.000556468963623 3.103544235229492\n",
      "82 2.9883620738983154 3.112147092819214\n",
      "83 2.9791197776794434 3.115511894226074\n",
      "84 3.0078372955322266 3.1155829429626465\n",
      "85 2.9766058921813965 3.1137266159057617\n",
      "86 2.9781036376953125 3.1116244792938232\n",
      "87 2.9981298446655273 3.1078994274139404\n",
      "88 2.9790077209472656 3.1211447715759277\n",
      "89 2.9806742668151855 3.1192874908447266\n",
      "90 3.02213978767395 3.1112048625946045\n",
      "91 2.981274127960205 3.123032569885254\n",
      "92 2.9991555213928223 3.121659278869629\n",
      "93 2.9765737056732178 3.1130619049072266\n",
      "94 2.994174003601074 3.106196165084839\n",
      "95 3.0003206729888916 3.116157293319702\n",
      "96 2.9813013076782227 3.0954370498657227\n",
      "97 2.977631092071533 3.106994152069092\n",
      "98 2.9629507064819336 3.112698554992676\n",
      "99 2.9661502838134766 3.1035714149475098\n"
     ]
    }
   ],
   "source": [
    "epoch_id = int(time())\n",
    "for epoch in range(100):\n",
    "    train_loss = train_epoch(gpt_prompt_model, train_loader, gpt_tokenizer, gpt_optimizer).item()\n",
    "    test_loss = test_model(gpt_prompt_model, test_loader, gpt_tokenizer).item()\n",
    "    train_losses.append(train_loss)\n",
    "    test_losses.append(test_loss)\n",
    "    print(epoch, train_loss, test_loss)\n",
    "    if epoch % 5 == 4:\n",
    "        torch.save(gpt_prompt_model.prompt, f'{epoch_id}-epoch{epoch}-prompt.pt')"
   ]
  },
  {
   "cell_type": "code",
   "execution_count": 35,
   "id": "8623b913-6df7-4991-9e93-0cde15d86f3e",
   "metadata": {},
   "outputs": [
    {
     "data": {
      "image/png": "[encoded data removed]",
      "text/plain": [
       "<Figure size 640x480 with 1 Axes>"
      ]
     },
     "metadata": {},
     "output_type": "display_data"
    }
   ],
   "source": [
    "gpt_train_losses = train_losses\n",
    "gpt_test_losses = test_losses\n",
    "x = range(100+1)\n",
    "plt.figure()\n",
    "plt.plot(x, gpt_train_losses, label='Train', color='blue', marker='o')\n",
    "plt.plot(x, gpt_test_losses, label='Test', color='green', marker='s')\n",
    "plt.title('GPT-2 Large Prompt Training')\n",
    "plt.xlabel('Epoch')\n",
    "plt.ylabel('Loss')\n",
    "plt.legend()\n",
    "plt.show()"
   ]
  },
  {
   "cell_type": "markdown",
   "id": "bc08f269-ad2a-4e27-867f-69c97f0b9915",
   "metadata": {},
   "source": [
    "## Results (GPT-2 Large)"
   ]
  },
  {
   "cell_type": "code",
   "execution_count": 91,
   "id": "18273280-3c34-4eff-8702-66c144d733bb",
   "metadata": {},
   "outputs": [
    {
     "name": "stdout",
     "output_type": "stream",
     "text": [
      "Actual: Here are two antonyms scatter and crowd\n",
      "Predicted: Here are two <prompt> scatter and gather\n",
      "\n",
      "Actual: Here are two antonyms flat and uneven\n",
      "Predicted: Here are two <prompt> flat and curved\n",
      "\n",
      "Actual: Here are two antonyms unpack and pack\n",
      "Predicted: Here are two <prompt> unpack and pack\n",
      "\n",
      "Actual: Here are two antonyms extinct and active\n",
      "Predicted: Here are two <prompt> extinct and extant\n",
      "\n",
      "Actual: Here are two antonyms mind and forget\n",
      "Predicted: Here are two <prompt> mind and body\n",
      "\n",
      "Actual: Here are two antonyms disarm and arm\n",
      "Predicted: Here are two <prompt> disarm and disarm\n",
      "\n",
      "Actual: Here are two antonyms glabrous and haired\n",
      "Predicted: Here are two <prompt> glabrous and smooth;\n",
      "\n",
      "Actual: Here are two antonyms concerned and unconcerned\n",
      "Predicted: Here are two <prompt> concerned and uninvolved\n",
      "\n",
      "Actual: Here are two antonyms interesting and uninteresting\n",
      "Predicted: Here are two <prompt> interesting and uninteresting\n",
      "\n",
      "Actual: Here are two antonyms ordinal and cardinal\n",
      "Predicted: Here are two <prompt> ordinal and cardinal\n",
      "\n",
      "Actual: Here are two antonyms distinct and unclear\n",
      "Predicted: Here are two <prompt> distinct and similar\n",
      "\n",
      "Actual: Here are two antonyms hire and fire\n",
      "Predicted: Here are two <prompt> hire and fire\n",
      "\n",
      "Actual: Here are two antonyms establish and abolish\n",
      "Predicted: Here are two <prompt> establish and destroy\n",
      "\n",
      "Actual: Here are two antonyms little and big\n",
      "Predicted: Here are two <prompt> little and large\n",
      "\n",
      "Actual: Here are two antonyms fertility and sterility\n",
      "Predicted: Here are two <prompt> fertility and sterility\n",
      "\n",
      "Actual: Here are two antonyms widen and contract\n",
      "Predicted: Here are two <prompt> widen and narrow\n",
      "\n",
      "Actual: Here are two antonyms fragile and significant\n",
      "Predicted: Here are two <prompt> fragile and strong\n",
      "\n",
      "Actual: Here are two antonyms popular and classical\n",
      "Predicted: Here are two <prompt> popular and obscure\n",
      "\n",
      "Actual: Here are two antonyms expected and unexpected\n",
      "Predicted: Here are two <prompt> expected and unexpected\n",
      "\n",
      "Actual: Here are two antonyms agree and dissent\n",
      "Predicted: Here are two <prompt> agree and disagree\n",
      "\n"
     ]
    }
   ],
   "source": [
    "with torch.no_grad():\n",
    "    for i, sample in test.sample(n=20).iterrows():\n",
    "        text, loss_mask_idx, n_predict = sample['text'], sample['loss_mask_idx'], sample['n_predict']\n",
    "        tokens = gpt_tokenizer(sample['text'], return_tensors='pt').to(device)\n",
    "        input_ids = tokens['input_ids']\n",
    "        toks = []\n",
    "        for j in range(n_predict):\n",
    "            if toks:\n",
    "                inp = torch.concat((input_ids[:,:loss_mask_idx+1], torch.LongTensor(toks).reshape(1,len(toks)).to(device)), dim=-1)\n",
    "            else:\n",
    "                inp = input_ids[:,:loss_mask_idx+1]\n",
    "            output = gpt_prompt_model(3, input_ids = inp)\n",
    "            tok = output.logits[0][-1].argmax()\n",
    "            toks.append(tok)\n",
    "\n",
    "        pred = gpt_tokenizer.decode(input_ids[0][:loss_mask_idx+1].tolist() + toks).replace('antonyms', '<prompt>')\n",
    "        print(f'Actual: {text}')\n",
    "        print(f'Predicted: {pred}')\n",
    "        print()"
   ]
  },
  {
   "cell_type": "markdown",
   "id": "78a4a548-aca1-4574-b692-f7290c47b049",
   "metadata": {},
   "source": [
    "## Prompt interpretability"
   ]
  },
  {
   "cell_type": "code",
   "execution_count": 40,
   "id": "eabb5a13-df49-4b23-a949-b45effae5976",
   "metadata": {},
   "outputs": [
    {
     "data": {
      "text/plain": [
       "Embedding(50257, 1280)"
      ]
     },
     "execution_count": 40,
     "metadata": {},
     "output_type": "execute_result"
    }
   ],
   "source": [
    "gpt.transformer.wte"
   ]
  },
  {
   "cell_type": "code",
   "execution_count": 42,
   "id": "501164fc-8579-4ab3-aead-49267d9e55e1",
   "metadata": {},
   "outputs": [
    {
     "name": "stdout",
     "output_type": "stream",
     "text": [
      "token_id: 39686, token: \"sounding\", cosine similarity: 0.22011171281337738\n",
      "token_id: 30439, token: \" unintention\", cosine similarity: 0.21060492098331451\n",
      "token_id: 9364, token: \"ÃÂÃÂÃÂÃÂ\", cosine similarity: 0.19043108820915222\n",
      "token_id: 14606, token: \" aest\", cosine similarity: 0.147452250123024\n"
     ]
    }
   ],
   "source": [
    "prompt_emb = gpt_prompt_model.prompt.detach()\n",
    "wte = gpt.transformer.wte.weight.detach()\n",
    "for i in range(prompt_emb.shape[0]):\n",
    "    closest = nn.functional.cosine_similarity(wte, prompt_emb[i:i+1,:], dim=1).argmax().item()\n",
    "    best = nn.functional.cosine_similarity(wte, prompt_emb[i:i+1,:], dim=1).max().item()\n",
    "    print(f'token_id: {closest}, token: \"{gpt_tokenizer.decode(closest)}\", cosine similarity: {best}')"
   ]
  },
  {
   "cell_type": "markdown",
   "id": "16e1d287-3874-48a7-93ef-e0733383f5e3",
   "metadata": {},
   "source": [
    "# Optimisation"
   ]
  },
  {
   "cell_type": "code",
   "execution_count": null,
   "id": "6760b150-2f86-4515-8830-1e6b246c8fd6",
   "metadata": {},
   "outputs": [],
   "source": [
    "gpt_flash = GPT2LMHeadModel.from_pretrained(\"openai-community/gpt2-large\", torch_dtype=torch.bfloat16, attn_implementation=\"flash_attention_2\")\n",
    "gpt_flash = gpt_flash.to(device)"
   ]
  },
  {
   "cell_type": "code",
   "execution_count": 97,
   "id": "33a94274-bdc7-4299-b5e2-29a458eeb6da",
   "metadata": {},
   "outputs": [],
   "source": [
    "xx_model = GPT2PromptModel(len(gpt_tokenizer(\" antonyms\")['input_ids']), gpt)\n",
    "xx_model = xx_model.to(device)"
   ]
  },
  {
   "cell_type": "code",
   "execution_count": 98,
   "id": "511c2088-5cdc-4ef0-82e5-e1c6c4a88efc",
   "metadata": {},
   "outputs": [],
   "source": [
    "xx_optimizer = torch.optim.Adam(list(filter(lambda x : x.requires_grad, xx_model.parameters())), lr=1e-3)"
   ]
  },
  {
   "cell_type": "code",
   "execution_count": 99,
   "id": "74826a3a-349b-460e-855f-51b1c6c98c1f",
   "metadata": {},
   "outputs": [
    {
     "name": "stdout",
     "output_type": "stream",
     "text": [
      "CPU times: user 22.7 s, sys: 13.3 s, total: 36 s\n",
      "Wall time: 36.9 s\n"
     ]
    },
    {
     "data": {
      "text/plain": [
       "tensor(3.7938, device='cuda:0')"
      ]
     },
     "execution_count": 99,
     "metadata": {},
     "output_type": "execute_result"
    }
   ],
   "source": [
    "%%time\n",
    "train_epoch(xx_model, train_loader, gpt_tokenizer, xx_optimizer)"
   ]
  },
  {
   "cell_type": "code",
   "execution_count": 104,
   "id": "cb209080-c830-43d6-9599-727080f9551e",
   "metadata": {},
   "outputs": [],
   "source": [
    "yy_model = GPT2PromptModel(len(gpt_tokenizer(\" antonyms\")['input_ids']), gpt_flash)\n",
    "yy_model = yy_model.to(device)"
   ]
  },
  {
   "cell_type": "code",
   "execution_count": 105,
   "id": "6e64888c-e0d9-472c-9d08-7840055e3b7d",
   "metadata": {},
   "outputs": [],
   "source": [
    "yy_optimizer = torch.optim.Adam(list(filter(lambda x : x.requires_grad, yy_model.parameters())), lr=1e-3)"
   ]
  },
  {
   "cell_type": "code",
   "execution_count": 108,
   "id": "644a009f-1240-411f-a48f-df153e6a6f94",
   "metadata": {},
   "outputs": [
    {
     "name": "stdout",
     "output_type": "stream",
     "text": [
      "CPU times: user 30.7 s, sys: 5.99 s, total: 36.7 s\n",
      "Wall time: 36.6 s\n"
     ]
    },
    {
     "data": {
      "text/plain": [
       "tensor(3.4163, device='cuda:0')"
      ]
     },
     "execution_count": 108,
     "metadata": {},
     "output_type": "execute_result"
    }
   ],
   "source": [
    "%%time\n",
    "train_epoch(yy_model, train_loader, gpt_tokenizer, yy_optimizer)"
   ]
  },
  {
   "cell_type": "markdown",
   "id": "9c772ab5-93b9-4012-9459-2e4d6805c3b9",
   "metadata": {},
   "source": [
    "# Strict vocabulary"
   ]
  },
  {
   "cell_type": "code",
   "execution_count": 168,
   "id": "9e31b971-84c9-49fa-9339-e4f55d3ce711",
   "metadata": {},
   "outputs": [],
   "source": [
    "class GPT2VocabPromptModel(torch.nn.Module):\n",
    "    gpt2: GPT2LMHeadModel\n",
    "    prompt: torch.Tensor\n",
    "    prompt_len: int\n",
    "    \n",
    "    def __init__(self, prompt_len: int, gpt2):\n",
    "        super(GPT2VocabPromptModel, self).__init__()\n",
    "        self.gpt2 = gpt2\n",
    "        # freeze gpt2 parameters\n",
    "        for parameter in self.gpt2.parameters():\n",
    "            parameter.requires_grad = False\n",
    "        # tunable prompt\n",
    "        wte = self.gpt2.get_input_embeddings().weight\n",
    "        vocab_sz, _ = wte.shape\n",
    "        self.prompt = torch.nn.Parameter(torch.normal(\n",
    "            torch.zeros(prompt_len, vocab_sz),\n",
    "            torch.ones(prompt_len, vocab_sz) * 6\n",
    "        ))\n",
    "        self.prompt_len = prompt_len\n",
    "\n",
    "    def forward(\n",
    "        self,\n",
    "        prompt_index: int,\n",
    "        input_ids: Optional[torch.LongTensor] = None,\n",
    "        inputs_embeds: Optional[torch.FloatTensor] = None,\n",
    "        **kwargs\n",
    "    ):\n",
    "        if input_ids is not None and inputs_embeds is not None:\n",
    "            raise ValueError(\"You cannot specify both input_ids and inputs_embeds at the same time\")\n",
    "        elif input_ids is not None:\n",
    "            wte = self.gpt2.get_input_embeddings()\n",
    "            inputs_embeds = wte(input_ids)\n",
    "        elif inputs_embeds is None:\n",
    "            raise ValueError(\"You have to specify either input_ids or inputs_embeds\")\n",
    "        # Insert tunable prompt\n",
    "        batch_sz = inputs_embeds.shape[0]\n",
    "        wte_matrix = self.gpt2.get_input_embeddings().weight\n",
    "        prompt_embed = torch.softmax(self.prompt, axis=1) @ wte_matrix\n",
    "        inputs_embeds[:,prompt_index:prompt_index + self.prompt_len,:] = prompt_embed.broadcast_to((batch_sz,) + prompt_embed.shape)\n",
    "        return self.gpt2(inputs_embeds=inputs_embeds, **kwargs)"
   ]
  },
  {
   "cell_type": "code",
   "execution_count": 169,
   "id": "b655e606-62df-491e-8071-749de49a24d3",
   "metadata": {},
   "outputs": [],
   "source": [
    "gpt_vocab_model = GPT2VocabPromptModel(len(gpt_tokenizer(\" antonyms\")['input_ids']), gpt)\n",
    "gpt_vocab_model = gpt_vocab_model.to(device)"
   ]
  },
  {
   "cell_type": "code",
   "execution_count": 170,
   "id": "148b279f-e258-4411-beb0-8bac6d53e74f",
   "metadata": {},
   "outputs": [],
   "source": [
    "gpt_vocab_optimizer = torch.optim.Adam(list(filter(lambda x : x.requires_grad, gpt_vocab_model.parameters())), lr=1e-3)"
   ]
  },
  {
   "cell_type": "code",
   "execution_count": 173,
   "id": "95596c58-7ab8-4b6b-a302-080832aa12cf",
   "metadata": {},
   "outputs": [
    {
     "name": "stdout",
     "output_type": "stream",
     "text": [
      "CPU times: user 22.4 s, sys: 14.1 s, total: 36.4 s\n",
      "Wall time: 36.3 s\n"
     ]
    },
    {
     "data": {
      "text/plain": [
       "tensor(5.6745, device='cuda:0')"
      ]
     },
     "execution_count": 173,
     "metadata": {},
     "output_type": "execute_result"
    }
   ],
   "source": [
    "%%time\n",
    "train_epoch(gpt_vocab_model, train_loader, gpt_tokenizer, gpt_vocab_optimizer)"
   ]
  },
  {
   "cell_type": "code",
   "execution_count": 175,
   "id": "40f4fc37-dc32-4a36-9ee2-ff823636eb89",
   "metadata": {},
   "outputs": [
    {
     "data": {
      "text/plain": [
       "torch.return_types.max(\n",
       "values=tensor([0.7409, 0.0811, 0.9591, 0.3122], device='cuda:0',\n",
       "       grad_fn=<MaxBackward0>),\n",
       "indices=tensor([30223,  8506, 49760, 26177], device='cuda:0'))"
      ]
     },
     "execution_count": 175,
     "metadata": {},
     "output_type": "execute_result"
    }
   ],
   "source": [
    "gpt_vocab_model.prompt.softmax(axis=-1).max(axis=-1)"
   ]
  },
  {
   "cell_type": "markdown",
   "id": "e71fdc62-a7e6-4859-998e-17740706834a",
   "metadata": {},
   "source": [
    "# Sample efficiency"
   ]
  },
  {
   "cell_type": "code",
   "execution_count": 185,
   "id": "5d7bc09a-bd48-4c96-8d7b-79b3657191f6",
   "metadata": {},
   "outputs": [],
   "source": [
    "gpt_100_model = GPT2PromptModel(len(gpt_tokenizer(\" antonyms\")['input_ids']), gpt)\n",
    "gpt_100_model = gpt_100_model.to(device)"
   ]
  },
  {
   "cell_type": "code",
   "execution_count": 186,
   "id": "794ae7fa-5770-4b5d-a7d8-72d927baef2d",
   "metadata": {},
   "outputs": [],
   "source": [
    "gpt_100_optimizer = torch.optim.Adam(list(filter(lambda x : x.requires_grad, gpt_100_model.parameters())), lr=1e-3)"
   ]
  },
  {
   "cell_type": "code",
   "execution_count": 187,
   "id": "afae1d88-137d-4d43-b046-f06c369de1fd",
   "metadata": {},
   "outputs": [],
   "source": [
    "train_100 = eacl_df.sample(n=100)\n",
    "test_100 = eacl_df.drop(train_100.index)\n",
    "train_100_dataset = AntonymDataset(train_100)\n",
    "train_100_loader = DataLoader(train_100_dataset, batch_size=64, shuffle=True)\n",
    "test_100_dataset = AntonymDataset(test_100)\n",
    "test_100_loader = DataLoader(test_100_dataset, batch_size=64, shuffle=False)"
   ]
  },
  {
   "cell_type": "code",
   "execution_count": 188,
   "id": "803c869b-3b0f-45d8-8d60-91032eb7a88e",
   "metadata": {},
   "outputs": [],
   "source": [
    "train_100_losses = [test_model(gpt_100_model, train_100_loader, gpt_tokenizer)]\n",
    "test_100_losses = [test_model(gpt_100_model, test_100_loader, gpt_tokenizer)]"
   ]
  },
  {
   "cell_type": "code",
   "execution_count": 189,
   "id": "5947018f-aee2-43ad-bfec-241c88bef5a3",
   "metadata": {},
   "outputs": [
    {
     "name": "stdout",
     "output_type": "stream",
     "text": [
      "0 4.9206647872924805 4.723216533660889\n",
      "1 4.518998622894287 4.414457321166992\n",
      "2 4.176107406616211 4.253404140472412\n",
      "3 4.143115997314453 4.175540924072266\n",
      "4 3.9737844467163086 4.080785751342773\n",
      "5 3.9014878273010254 3.992617130279541\n",
      "6 3.788574695587158 3.9271490573883057\n",
      "7 3.7430598735809326 3.8675918579101562\n",
      "8 3.756380081176758 3.8101699352264404\n",
      "9 3.8115458488464355 3.760075092315674\n",
      "10 3.428203582763672 3.7204530239105225\n",
      "11 3.505437135696411 3.6871120929718018\n",
      "12 3.3675222396850586 3.669783115386963\n",
      "13 3.4548778533935547 3.659501314163208\n",
      "14 3.5060386657714844 3.65264630317688\n",
      "15 3.322779655456543 3.6544158458709717\n",
      "16 3.4423203468322754 3.6494057178497314\n",
      "17 3.2354629039764404 3.6389002799987793\n",
      "18 3.0651397705078125 3.624098062515259\n",
      "19 3.228386878967285 3.6068177223205566\n",
      "20 3.242203712463379 3.598388433456421\n",
      "21 3.2477545738220215 3.600524663925171\n",
      "22 3.2736830711364746 3.5952343940734863\n",
      "23 3.1961867809295654 3.577242851257324\n",
      "24 3.0769762992858887 3.5613958835601807\n",
      "25 3.094904899597168 3.5478146076202393\n",
      "26 3.1525731086730957 3.5534045696258545\n",
      "27 3.052861213684082 3.554744243621826\n",
      "28 3.1664743423461914 3.545548439025879\n",
      "29 3.1181154251098633 3.5407042503356934\n"
     ]
    }
   ],
   "source": [
    "for epoch in range(30):\n",
    "    train_loss = train_epoch(gpt_100_model, train_100_loader, gpt_tokenizer, gpt_100_optimizer).item()\n",
    "    test_loss = test_model(gpt_100_model, test_100_loader, gpt_tokenizer).item()\n",
    "    train_100_losses.append(train_loss)\n",
    "    test_100_losses.append(test_loss)\n",
    "    print(epoch, train_loss, test_loss)"
   ]
  },
  {
   "cell_type": "code",
   "execution_count": 194,
   "id": "93dbd382-200a-4db5-b527-c48da62f2b68",
   "metadata": {},
   "outputs": [
    {
     "data": {
      "image/png": "[encoded data removed]",
      "text/plain": [
       "<Figure size 640x480 with 1 Axes>"
      ]
     },
     "metadata": {},
     "output_type": "display_data"
    }
   ],
   "source": [
    "gpt_train_losses = train_100_losses\n",
    "gpt_test_losses = test_100_losses\n",
    "x = range(30+1)\n",
    "plt.figure()\n",
    "plt.plot(x, gpt_train_losses, label='Train', color='blue', marker='o')\n",
    "plt.plot(x, gpt_test_losses, label='Test', color='green', marker='s')\n",
    "plt.title('GPT-2 Large 100-sample Prompt Training')\n",
    "plt.xlabel('Epoch')\n",
    "plt.ylabel('Loss')\n",
    "plt.legend()\n",
    "plt.show()"
   ]
  },
  {
   "cell_type": "code",
   "execution_count": 195,
   "id": "e3146016-17a9-45f7-ac18-6ee45b3d86c9",
   "metadata": {},
   "outputs": [
    {
     "name": "stdout",
     "output_type": "stream",
     "text": [
      "Actual: Here are two antonyms knockout and decision\n",
      "Predicted: Here are two <prompt> knockout and knockout\n",
      "\n",
      "Actual: Here are two antonyms heterogeneity and homogeneity\n",
      "Predicted: Here are two <prompt> heterogeneity and uniformity\n",
      "\n",
      "Actual: Here are two antonyms widening and narrowing\n",
      "Predicted: Here are two <prompt> widening and narrowing\n",
      "\n",
      "Actual: Here are two antonyms incapable and capable\n",
      "Predicted: Here are two <prompt> incapable and capable\n",
      "\n",
      "Actual: Here are two antonyms refreshing and old\n",
      "Predicted: Here are two <prompt> refreshing and depressing\n",
      "\n",
      "Actual: Here are two antonyms shy and bold\n",
      "Predicted: Here are two <prompt> shy and bold\n",
      "\n",
      "Actual: Here are two antonyms plain and decorated\n",
      "Predicted: Here are two <prompt> plain and complex\n",
      "\n",
      "Actual: Here are two antonyms end and start\n",
      "Predicted: Here are two <prompt> end and beginning\n",
      "\n",
      "Actual: Here are two antonyms imperfect and perfect\n",
      "Predicted: Here are two <prompt> imperfect and perfect\n",
      "\n",
      "Actual: Here are two antonyms white and colourful\n",
      "Predicted: Here are two <prompt> white and black\n",
      "\n",
      "Actual: Here are two antonyms rare and frequent\n",
      "Predicted: Here are two <prompt> rare and common\n",
      "\n",
      "Actual: Here are two antonyms riser and tread\n",
      "Predicted: Here are two <prompt> riser and sink\n",
      "\n",
      "Actual: Here are two antonyms quadruple and single\n",
      "Predicted: Here are two <prompt> quadruple and triple\n",
      "\n",
      "Actual: Here are two antonyms creamy and thin\n",
      "Predicted: Here are two <prompt> creamy and dry\n",
      "\n",
      "Actual: Here are two antonyms leftist and right\n",
      "Predicted: Here are two <prompt> leftist and right\n",
      "\n",
      "Actual: Here are two antonyms unavailable and available\n",
      "Predicted: Here are two <prompt> unavailable and available\n",
      "\n",
      "Actual: Here are two antonyms integrate and segregate\n",
      "Predicted: Here are two <prompt> integrate and separate.\n",
      "\n",
      "Actual: Here are two antonyms madness and sanity\n",
      "Predicted: Here are two <prompt> madness and sanity\n",
      "\n",
      "Actual: Here are two antonyms realism and nominalism\n",
      "Predicted: Here are two <prompt> realism and idealism\n",
      "\n",
      "Actual: Here are two antonyms unite and separate\n",
      "Predicted: Here are two <prompt> unite and separate\n",
      "\n"
     ]
    }
   ],
   "source": [
    "with torch.no_grad():\n",
    "    for i, sample in test_100.sample(n=20).iterrows():\n",
    "        text, loss_mask_idx, n_predict = sample['text'], sample['loss_mask_idx'], sample['n_predict']\n",
    "        tokens = gpt_tokenizer(sample['text'], return_tensors='pt').to(device)\n",
    "        input_ids = tokens['input_ids']\n",
    "        toks = []\n",
    "        for j in range(n_predict):\n",
    "            if toks:\n",
    "                inp = torch.concat((input_ids[:,:loss_mask_idx+1], torch.LongTensor(toks).reshape(1,len(toks)).to(device)), dim=-1)\n",
    "            else:\n",
    "                inp = input_ids[:,:loss_mask_idx+1]\n",
    "            output = gpt_100_model(3, input_ids = inp)\n",
    "            tok = output.logits[0][-1].argmax()\n",
    "            toks.append(tok)\n",
    "\n",
    "        pred = gpt_tokenizer.decode(input_ids[0][:loss_mask_idx+1].tolist() + toks).replace('antonyms', '<prompt>')\n",
    "        print(f'Actual: {text}')\n",
    "        print(f'Predicted: {pred}')\n",
    "        print()"
   ]
  }
 ],
 "metadata": {
  "kernelspec": {
   "display_name": "Python 3 (ipykernel)",
   "language": "python",
   "name": "python3"
  },
  "language_info": {
   "codemirror_mode": {
    "name": "ipython",
    "version": 3
   },
   "file_extension": ".py",
   "mimetype": "text/x-python",
   "name": "python",
   "nbconvert_exporter": "python",
   "pygments_lexer": "ipython3",
   "version": "3.11.8"
  }
 },
 "nbformat": 4,
 "nbformat_minor": 5
}
